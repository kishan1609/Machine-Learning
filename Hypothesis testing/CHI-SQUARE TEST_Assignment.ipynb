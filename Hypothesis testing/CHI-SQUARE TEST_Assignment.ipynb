{
 "cells": [
  {
   "cell_type": "code",
   "execution_count": 1,
   "id": "dda80efb-3289-40e2-b753-6571fb00c1ac",
   "metadata": {},
   "outputs": [],
   "source": [
    "                                                            # CHI-SQUARE TEST"
   ]
  },
  {
   "cell_type": "code",
   "execution_count": 2,
   "id": "b22f9bba-f113-45b0-9468-c829d38b85d2",
   "metadata": {},
   "outputs": [],
   "source": [
    "# Association between Device Type and Customer Satisfaction"
   ]
  },
  {
   "cell_type": "code",
   "execution_count": 13,
   "id": "9d6ddda7-1d53-4fbd-aed7-1a9d8bad9f29",
   "metadata": {},
   "outputs": [],
   "source": [
    "# 1. State the Hypotheses:"
   ]
  },
  {
   "cell_type": "code",
   "execution_count": 15,
   "id": "c40d729e-02ce-412b-8855-010966988c20",
   "metadata": {},
   "outputs": [],
   "source": [
    "# Null Hypothesis (H₀): There is no association between the type of smart device (Thermostat vs Light) and customer satisfaction.\n",
    "# Alternative Hypothesis (H₁): There is an association between the type of smart device and customer satisfaction."
   ]
  },
  {
   "cell_type": "code",
   "execution_count": null,
   "id": "7b85b14d-5636-481f-aaec-e753d4617b3b",
   "metadata": {},
   "outputs": [],
   "source": []
  },
  {
   "cell_type": "code",
   "execution_count": 16,
   "id": "6823d1c2-787e-458b-99e1-d1464c404ce0",
   "metadata": {},
   "outputs": [],
   "source": [
    "# 2. Compute the Chi-Square Statistic:"
   ]
  },
  {
   "cell_type": "code",
   "execution_count": 17,
   "id": "ba68abf0-a986-46c1-83a9-ae4355ebbfc0",
   "metadata": {},
   "outputs": [],
   "source": [
    "import numpy as np\n",
    "import pandas as pd\n",
    "from scipy.stats import chi2_contingency, chi2"
   ]
  },
  {
   "cell_type": "code",
   "execution_count": 18,
   "id": "6574ef28-8645-4be8-a34b-76e03d87c18b",
   "metadata": {},
   "outputs": [],
   "source": [
    "data = np.array([[50, 70],[80, 100],[60, 90],[30, 50],[20, 50]])"
   ]
  },
  {
   "cell_type": "code",
   "execution_count": 19,
   "id": "e5183124-d688-4bc0-8336-5e83ba4d4d10",
   "metadata": {},
   "outputs": [],
   "source": [
    "df = pd.DataFrame(data, columns=[\"Smart Thermostat\", \"Smart Light\"],\n",
    "                  index=[\"Very Satisfied\", \"Satisfied\", \"Neutral\", \"Unsatisfied\", \"Very Unsatisfied\"])"
   ]
  },
  {
   "cell_type": "code",
   "execution_count": 20,
   "id": "f78a74a1-5d72-494e-90d1-dfb6ede84eac",
   "metadata": {},
   "outputs": [
    {
     "data": {
      "text/html": [
       "<div>\n",
       "<style scoped>\n",
       "    .dataframe tbody tr th:only-of-type {\n",
       "        vertical-align: middle;\n",
       "    }\n",
       "\n",
       "    .dataframe tbody tr th {\n",
       "        vertical-align: top;\n",
       "    }\n",
       "\n",
       "    .dataframe thead th {\n",
       "        text-align: right;\n",
       "    }\n",
       "</style>\n",
       "<table border=\"1\" class=\"dataframe\">\n",
       "  <thead>\n",
       "    <tr style=\"text-align: right;\">\n",
       "      <th></th>\n",
       "      <th>Smart Thermostat</th>\n",
       "      <th>Smart Light</th>\n",
       "    </tr>\n",
       "  </thead>\n",
       "  <tbody>\n",
       "    <tr>\n",
       "      <th>Very Satisfied</th>\n",
       "      <td>50</td>\n",
       "      <td>70</td>\n",
       "    </tr>\n",
       "    <tr>\n",
       "      <th>Satisfied</th>\n",
       "      <td>80</td>\n",
       "      <td>100</td>\n",
       "    </tr>\n",
       "    <tr>\n",
       "      <th>Neutral</th>\n",
       "      <td>60</td>\n",
       "      <td>90</td>\n",
       "    </tr>\n",
       "    <tr>\n",
       "      <th>Unsatisfied</th>\n",
       "      <td>30</td>\n",
       "      <td>50</td>\n",
       "    </tr>\n",
       "    <tr>\n",
       "      <th>Very Unsatisfied</th>\n",
       "      <td>20</td>\n",
       "      <td>50</td>\n",
       "    </tr>\n",
       "  </tbody>\n",
       "</table>\n",
       "</div>"
      ],
      "text/plain": [
       "                  Smart Thermostat  Smart Light\n",
       "Very Satisfied                  50           70\n",
       "Satisfied                       80          100\n",
       "Neutral                         60           90\n",
       "Unsatisfied                     30           50\n",
       "Very Unsatisfied                20           50"
      ]
     },
     "execution_count": 20,
     "metadata": {},
     "output_type": "execute_result"
    }
   ],
   "source": [
    "df"
   ]
  },
  {
   "cell_type": "code",
   "execution_count": 22,
   "id": "3f5ec48a-cf95-43c6-9b3b-b00e84b73f2a",
   "metadata": {},
   "outputs": [
    {
     "name": "stdout",
     "output_type": "stream",
     "text": [
      "Chi-Square Statistic: 5.638227513227513\n",
      "Degrees of Freedom: 4\n",
      "Expected Frequencies:\n",
      " [[ 48.  72.]\n",
      " [ 72. 108.]\n",
      " [ 60.  90.]\n",
      " [ 32.  48.]\n",
      " [ 28.  42.]]\n",
      "P-Value: 0.22784371130697179\n"
     ]
    }
   ],
   "source": [
    "chi2_stat, p_val, dof, expected = chi2_contingency(df)\n",
    "\n",
    "print(\"Chi-Square Statistic:\", chi2_stat)\n",
    "print(\"Degrees of Freedom:\", dof)\n",
    "print(\"Expected Frequencies:\\n\", expected)\n",
    "print(\"P-Value:\", p_val)"
   ]
  },
  {
   "cell_type": "code",
   "execution_count": null,
   "id": "dcd3378e-b2c1-4084-b00a-f77a8cb0a775",
   "metadata": {},
   "outputs": [],
   "source": []
  },
  {
   "cell_type": "code",
   "execution_count": 23,
   "id": "14b0ce70-19d9-4c11-befc-f508455d4f39",
   "metadata": {},
   "outputs": [],
   "source": [
    "# 3. Determine the Critical Value:"
   ]
  },
  {
   "cell_type": "code",
   "execution_count": 24,
   "id": "9d54eeb8-9eb2-4fb8-aac6-b489e6dab558",
   "metadata": {},
   "outputs": [],
   "source": [
    "# Using the significance level (alpha) of 0.05 and the degrees of freedom (which is the number of categories minus 1)"
   ]
  },
  {
   "cell_type": "code",
   "execution_count": 25,
   "id": "2df32c2a-498a-4aaf-a5e1-15bf87400d7b",
   "metadata": {},
   "outputs": [
    {
     "name": "stdout",
     "output_type": "stream",
     "text": [
      "Critical Value at 0.05 significance level: 9.487729036781154\n"
     ]
    }
   ],
   "source": [
    "alpha = 0.05\n",
    "critical_value = chi2.ppf(1 - alpha, dof)\n",
    "print(\"Critical Value at 0.05 significance level:\", critical_value)"
   ]
  },
  {
   "cell_type": "code",
   "execution_count": null,
   "id": "0dec0448-be11-46df-abc1-4d48bcacaa06",
   "metadata": {},
   "outputs": [],
   "source": []
  },
  {
   "cell_type": "code",
   "execution_count": 26,
   "id": "df53d99b-0567-4aca-86a2-a4c8d890ba17",
   "metadata": {},
   "outputs": [],
   "source": [
    "# 4. Make a Decision:"
   ]
  },
  {
   "cell_type": "code",
   "execution_count": 27,
   "id": "d346bf72-5b79-4a28-bca9-706c8e1fcd54",
   "metadata": {},
   "outputs": [],
   "source": [
    "# Compare the Chi-Square statistic with the critical value to decide whether to reject the null hypothesis."
   ]
  },
  {
   "cell_type": "code",
   "execution_count": 28,
   "id": "b44f2363-2f2a-414b-a6b1-f4cebaf722f3",
   "metadata": {},
   "outputs": [
    {
     "name": "stdout",
     "output_type": "stream",
     "text": [
      "Fail to Reject the Null Hypothesis: No significant relationship between satisfaction and product type.\n"
     ]
    }
   ],
   "source": [
    "if chi2_stat > critical_value:\n",
    "    print(\"Reject the Null Hypothesis: There is a significant relationship between satisfaction and product type.\")\n",
    "else:\n",
    "    print(\"Fail to Reject the Null Hypothesis: No significant relationship between satisfaction and product type.\")"
   ]
  },
  {
   "cell_type": "code",
   "execution_count": null,
   "id": "f0f0cd2c-c217-449e-8a5b-dac707cb440a",
   "metadata": {},
   "outputs": [],
   "source": []
  }
 ],
 "metadata": {
  "kernelspec": {
   "display_name": "Python 3 (ipykernel)",
   "language": "python",
   "name": "python3"
  },
  "language_info": {
   "codemirror_mode": {
    "name": "ipython",
    "version": 3
   },
   "file_extension": ".py",
   "mimetype": "text/x-python",
   "name": "python",
   "nbconvert_exporter": "python",
   "pygments_lexer": "ipython3",
   "version": "3.12.7"
  }
 },
 "nbformat": 4,
 "nbformat_minor": 5
}
