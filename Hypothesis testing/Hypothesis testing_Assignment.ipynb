{
 "cells": [
  {
   "cell_type": "code",
   "execution_count": 1,
   "id": "8a0c6d95-cbc5-4fc8-988e-d4b7494825d5",
   "metadata": {},
   "outputs": [],
   "source": [
    "                                                        # HYPOTHESIS TESTING"
   ]
  },
  {
   "cell_type": "code",
   "execution_count": 2,
   "id": "eff7ad7b-e679-4c70-998b-9af2e44dda12",
   "metadata": {},
   "outputs": [],
   "source": [
    "# Assignment Tasks:"
   ]
  },
  {
   "cell_type": "code",
   "execution_count": 3,
   "id": "d5ed1b1c-aa36-46e8-8974-8bd184c41375",
   "metadata": {},
   "outputs": [],
   "source": [
    "# 1. State the Hypotheses statement:"
   ]
  },
  {
   "cell_type": "code",
   "execution_count": 4,
   "id": "faac8cb1-881f-4de1-a522-086755772f83",
   "metadata": {},
   "outputs": [],
   "source": [
    "# To state the hypotheses in a statistical test, you need two key components:\n",
    "\n",
    "# Null Hypothesis (H₀):\n",
    "# This is the default or original assumption — that there is no effect, no difference, or no relationship between variables.\n",
    "\n",
    "# Alternative Hypothesis (H₁ or Ha):\n",
    "# This is what you want to test for — that there is an effect, a difference, or a relationship."
   ]
  },
  {
   "cell_type": "code",
   "execution_count": 5,
   "id": "dae97566-1ba2-43e3-8805-e6c1425be23e",
   "metadata": {},
   "outputs": [],
   "source": [
    "# General Format:\n",
    "# H₀: parameter = value\n",
    "# H₁: parameter ≠ value (or < / > depending on the test)"
   ]
  },
  {
   "cell_type": "code",
   "execution_count": null,
   "id": "54a97bd6-de8a-4def-99d1-b98126eca711",
   "metadata": {},
   "outputs": [],
   "source": []
  },
  {
   "cell_type": "code",
   "execution_count": 6,
   "id": "9cdca926-9733-426b-88e9-6337cb6c61c8",
   "metadata": {},
   "outputs": [],
   "source": [
    "# 2. Calculate the Test Statistic:"
   ]
  },
  {
   "cell_type": "code",
   "execution_count": 7,
   "id": "bef6fa2c-200a-4625-a1b1-9e00f7d8aca5",
   "metadata": {},
   "outputs": [],
   "source": [
    "import numpy as np"
   ]
  },
  {
   "cell_type": "code",
   "execution_count": 8,
   "id": "906c7e59-0b68-4154-8197-ee0a70a2978d",
   "metadata": {},
   "outputs": [],
   "source": [
    "x_bar = 3050           \n",
    "mu_x = 600             \n",
    "sigma_x = 25           \n",
    "n = 25 "
   ]
  },
  {
   "cell_type": "code",
   "execution_count": 9,
   "id": "64550fef-a14a-45ee-9143-feaba96b8e25",
   "metadata": {},
   "outputs": [],
   "source": [
    "mu_w = 1000 + 5 * mu_x"
   ]
  },
  {
   "cell_type": "code",
   "execution_count": 10,
   "id": "e4c0f444-6acc-45ba-a296-4b005a44e720",
   "metadata": {},
   "outputs": [],
   "source": [
    "sigma_w = 5 * sigma_x"
   ]
  },
  {
   "cell_type": "code",
   "execution_count": 12,
   "id": "efddac7f-a895-4a93-be5b-95033a6b282e",
   "metadata": {},
   "outputs": [],
   "source": [
    "SE = sigma_w / np.sqrt(n)"
   ]
  },
  {
   "cell_type": "code",
   "execution_count": 13,
   "id": "34b96cc1-5d0f-4aec-a97c-5009d31fa0b9",
   "metadata": {},
   "outputs": [],
   "source": [
    "t_stat = (x_bar - mu_w) / SE"
   ]
  },
  {
   "cell_type": "code",
   "execution_count": 14,
   "id": "4bf77cdb-f2dc-43ba-82f6-3b9756832b5d",
   "metadata": {},
   "outputs": [
    {
     "name": "stdout",
     "output_type": "stream",
     "text": [
      "The test statistic (t) is: -38.00\n"
     ]
    }
   ],
   "source": [
    "print(f\"The test statistic (t) is: {t_stat:.2f}\")"
   ]
  },
  {
   "cell_type": "code",
   "execution_count": null,
   "id": "0fb820a7-85b4-4455-8c17-b583839b71e1",
   "metadata": {},
   "outputs": [],
   "source": []
  },
  {
   "cell_type": "code",
   "execution_count": 15,
   "id": "b14f4254-779a-43ea-b7d8-3a982ee1fdfd",
   "metadata": {},
   "outputs": [],
   "source": [
    "# 3. Determine the Critical Value:"
   ]
  },
  {
   "cell_type": "code",
   "execution_count": 16,
   "id": "30ffdc06-7483-4768-a5f0-eedb3d58b3b5",
   "metadata": {},
   "outputs": [],
   "source": [
    "from scipy.stats import norm"
   ]
  },
  {
   "cell_type": "code",
   "execution_count": 17,
   "id": "8e5372fa-a5af-43e2-b273-c79922c721e5",
   "metadata": {},
   "outputs": [],
   "source": [
    "alpha = 0.05"
   ]
  },
  {
   "cell_type": "code",
   "execution_count": 18,
   "id": "b13a1ac7-01b9-4d9f-a609-47ddb014d1d4",
   "metadata": {},
   "outputs": [],
   "source": [
    "critical_value = norm.ppf(1 - alpha/2)"
   ]
  },
  {
   "cell_type": "code",
   "execution_count": 19,
   "id": "3a5df157-a015-4f86-bd18-ea2565cc1bc8",
   "metadata": {},
   "outputs": [
    {
     "name": "stdout",
     "output_type": "stream",
     "text": [
      "Critical value (Z_critical) at alpha = 0.05: 1.9600\n"
     ]
    }
   ],
   "source": [
    "print(f\"Critical value (Z_critical) at alpha = {alpha}: {critical_value:.4f}\")"
   ]
  },
  {
   "cell_type": "code",
   "execution_count": null,
   "id": "ebbfe2ad-ea5f-4a82-b0c9-da5835259cf7",
   "metadata": {},
   "outputs": [],
   "source": []
  },
  {
   "cell_type": "code",
   "execution_count": 20,
   "id": "7c8899fd-bc1a-4910-b06e-b94c6527ca79",
   "metadata": {},
   "outputs": [],
   "source": [
    "# 4. Make a Decision:"
   ]
  },
  {
   "cell_type": "code",
   "execution_count": 21,
   "id": "ae68953e-c559-42ae-a9ae-05d98254d6e3",
   "metadata": {},
   "outputs": [],
   "source": [
    "# Compare the test statistic with the critical value to decide whether to reject the null hypothesis."
   ]
  },
  {
   "cell_type": "code",
   "execution_count": 22,
   "id": "8625cd14-5f60-4172-b704-13c5c89812e9",
   "metadata": {},
   "outputs": [],
   "source": [
    "import math"
   ]
  },
  {
   "cell_type": "code",
   "execution_count": 23,
   "id": "8039584e-3854-4b87-b2a3-ec2a0359b07c",
   "metadata": {},
   "outputs": [],
   "source": [
    "n = 25\n",
    "sample_mean = 3050\n",
    "X_mean = 600\n",
    "X_std = 25"
   ]
  },
  {
   "cell_type": "code",
   "execution_count": 25,
   "id": "fabb1588-131c-485f-8690-15c48ff7c4e3",
   "metadata": {},
   "outputs": [],
   "source": [
    "theoretical_mean= 1000 + 5 * X_mean  \n",
    "theoretical_std = 5 * X_std  "
   ]
  },
  {
   "cell_type": "code",
   "execution_count": 26,
   "id": "c9c1dd58-38bf-4acf-bf88-384462b0c3f7",
   "metadata": {},
   "outputs": [
    {
     "data": {
      "text/plain": [
       "4000"
      ]
     },
     "execution_count": 26,
     "metadata": {},
     "output_type": "execute_result"
    }
   ],
   "source": [
    "theoretical_mean"
   ]
  },
  {
   "cell_type": "code",
   "execution_count": 27,
   "id": "a08683bd-dda3-43bd-9116-442e97291c01",
   "metadata": {},
   "outputs": [
    {
     "data": {
      "text/plain": [
       "125"
      ]
     },
     "execution_count": 27,
     "metadata": {},
     "output_type": "execute_result"
    }
   ],
   "source": [
    "theoretical_std"
   ]
  },
  {
   "cell_type": "code",
   "execution_count": 29,
   "id": "bde55734-62ec-43c7-9d36-5c7b32014e89",
   "metadata": {},
   "outputs": [
    {
     "data": {
      "text/plain": [
       "25.0"
      ]
     },
     "execution_count": 29,
     "metadata": {},
     "output_type": "execute_result"
    }
   ],
   "source": [
    "SE = theoretical_std / math.sqrt(n)\n",
    "SE"
   ]
  },
  {
   "cell_type": "code",
   "execution_count": 34,
   "id": "18fb1995-e9a7-4d9a-9a19-e0c20640d347",
   "metadata": {},
   "outputs": [],
   "source": [
    "z = (sample_mean - theoretical_mean) / SE"
   ]
  },
  {
   "cell_type": "code",
   "execution_count": 33,
   "id": "0dd7b976-d23e-44d6-be37-b12ae8c741a9",
   "metadata": {},
   "outputs": [],
   "source": [
    "z_critical = norm.ppf(0.975) "
   ]
  },
  {
   "cell_type": "code",
   "execution_count": 32,
   "id": "c140f095-dd37-496a-9c65-912557e16b0a",
   "metadata": {},
   "outputs": [
    {
     "name": "stdout",
     "output_type": "stream",
     "text": [
      "Test Statistic (Z): -38.0000\n",
      "Critical Value: ±1.9600\n"
     ]
    }
   ],
   "source": [
    "print(f\"Test Statistic (Z): {z:.4f}\")\n",
    "print(f\"Critical Value: ±{z_critical:.4f}\")"
   ]
  },
  {
   "cell_type": "code",
   "execution_count": 35,
   "id": "8334c7f3-02e5-4a62-888e-00513d835cae",
   "metadata": {},
   "outputs": [
    {
     "name": "stdout",
     "output_type": "stream",
     "text": [
      "Reject the null hypothesis.\n"
     ]
    }
   ],
   "source": [
    "if abs(z) > z_critical:\n",
    "    print(\"Reject the null hypothesis.\")\n",
    "else:\n",
    "    print(\"Fail to reject the null hypothesis.\")"
   ]
  },
  {
   "cell_type": "code",
   "execution_count": null,
   "id": "ea0c82ee-ee4b-4006-9dc8-cc6617292bd0",
   "metadata": {},
   "outputs": [],
   "source": []
  },
  {
   "cell_type": "code",
   "execution_count": 36,
   "id": "a8473388-8df2-4e76-909b-0b4ebde290ff",
   "metadata": {},
   "outputs": [],
   "source": [
    "# 5. Conclusion:"
   ]
  },
  {
   "cell_type": "code",
   "execution_count": 37,
   "id": "ce0edce4-9ede-4af6-b6fc-5a97b89770bb",
   "metadata": {},
   "outputs": [],
   "source": [
    "# Based on the decision in step 4, conclude whether there is strong evidence to support the restaurant owners'\n",
    "# claim that the weekly operating costs are higher than the model suggests."
   ]
  },
  {
   "cell_type": "code",
   "execution_count": null,
   "id": "c2e4add6-f799-4d00-ac47-5e66498e7d3d",
   "metadata": {},
   "outputs": [],
   "source": [
    "# There is no statistical evidence to support the restaurant owners' claim that the actual weekly operating costs \n",
    "# are higher than the theoretical model predicts.\n",
    "\n",
    "# In fact, the sample mean is significantly lower than the expected value, suggesting that actual costs are lower \n",
    "# than estimated by the model."
   ]
  }
 ],
 "metadata": {
  "kernelspec": {
   "display_name": "Python 3 (ipykernel)",
   "language": "python",
   "name": "python3"
  },
  "language_info": {
   "codemirror_mode": {
    "name": "ipython",
    "version": 3
   },
   "file_extension": ".py",
   "mimetype": "text/x-python",
   "name": "python",
   "nbconvert_exporter": "python",
   "pygments_lexer": "ipython3",
   "version": "3.12.7"
  }
 },
 "nbformat": 4,
 "nbformat_minor": 5
}
