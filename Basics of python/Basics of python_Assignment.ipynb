{
 "cells": [
  {
   "cell_type": "code",
   "execution_count": 7,
   "id": "2c8636a0-6f0d-4b6b-8433-a8ac001ad65b",
   "metadata": {},
   "outputs": [],
   "source": [
    "                                                            # Coding Exercises"
   ]
  },
  {
   "cell_type": "code",
   "execution_count": 8,
   "id": "74979474-53d0-42b3-9945-94632c6f72eb",
   "metadata": {},
   "outputs": [],
   "source": [
    "# Exercise 1: Prime Numbers"
   ]
  },
  {
   "cell_type": "code",
   "execution_count": 9,
   "id": "46b821e3-11c6-40a6-a072-9c81ab201132",
   "metadata": {},
   "outputs": [],
   "source": [
    "# Write a Python program that checks whether a given number is prime or not. A prime number is a natural number greater than 1 that \n",
    "# has no positive divisors other than 1 and itself."
   ]
  },
  {
   "cell_type": "code",
   "execution_count": 21,
   "id": "138ac8b6-d7dd-40e8-8e6e-7cb3e5077d63",
   "metadata": {},
   "outputs": [
    {
     "name": "stdin",
     "output_type": "stream",
     "text": [
      "Enter The Number:  10\n"
     ]
    },
    {
     "name": "stdout",
     "output_type": "stream",
     "text": [
      "10 is Not Prime Number\n"
     ]
    }
   ],
   "source": [
    "def prime(num):\n",
    "    if num <= 1:\n",
    "        return False\n",
    "    for i in range(2, int(num**0.5) + 1):\n",
    "        if num % i == 0:\n",
    "            return False\n",
    "    return True\n",
    "\n",
    "number = int(input(\"Enter The Number: \"))\n",
    "\n",
    "if prime(number):\n",
    "    print(f\"{number} is Prime Number\")\n",
    "else:\n",
    "    print(f\"{number} is Not Prime Number\")\n"
   ]
  },
  {
   "cell_type": "code",
   "execution_count": null,
   "id": "63d2d496-9131-429d-9207-0517eeead19f",
   "metadata": {},
   "outputs": [],
   "source": []
  },
  {
   "cell_type": "code",
   "execution_count": 22,
   "id": "a2c9275e-ba65-4e81-8c10-4a8fa226d287",
   "metadata": {},
   "outputs": [],
   "source": [
    "# Exercise 2: Product of Random Numbers"
   ]
  },
  {
   "cell_type": "code",
   "execution_count": 23,
   "id": "3e9c8e6c-bf76-4263-abfc-7c698c7c8af5",
   "metadata": {},
   "outputs": [],
   "source": [
    "# Develop a Python program that generates two random numbers and asks the user to enter the product of these numbers. \n",
    "# The program should then check if the user's answer is correct and display an appropriate message."
   ]
  },
  {
   "cell_type": "code",
   "execution_count": 29,
   "id": "6197c2c9-8a6d-4476-9728-cfee2462a5bb",
   "metadata": {},
   "outputs": [
    {
     "name": "stdout",
     "output_type": "stream",
     "text": [
      "what is the product of 2 and 2?\n"
     ]
    },
    {
     "name": "stdin",
     "output_type": "stream",
     "text": [
      "Your Answer:  77\n"
     ]
    },
    {
     "name": "stdout",
     "output_type": "stream",
     "text": [
      "Incurrect Answer!, The currect answer is 4.\n"
     ]
    }
   ],
   "source": [
    "import random\n",
    "\n",
    "num1 = random.randint(1,10)\n",
    "num2 = random.randint(1,10)\n",
    "\n",
    "print(f\"what is the product of {num1} and {num2}?\")\n",
    "user_answer = int(input(\"Your Answer: \"))\n",
    "\n",
    "currect_Answer = num1*num2\n",
    "\n",
    "if user_answer == currect_Answer:\n",
    "    print(\"Well Done!, This is Right Answer\")\n",
    "else:\n",
    "    print(f\"Incurrect Answer!, The currect answer is {currect_Answer}.\")"
   ]
  },
  {
   "cell_type": "code",
   "execution_count": null,
   "id": "9d0a1c0e-4ca5-4ac7-9b01-63b5d2c7862a",
   "metadata": {},
   "outputs": [],
   "source": []
  },
  {
   "cell_type": "code",
   "execution_count": 30,
   "id": "46b5599c-18ab-4d21-8110-767a68707ae8",
   "metadata": {},
   "outputs": [],
   "source": [
    "# Exercise 3: Squares of Even/Odd Numbers"
   ]
  },
  {
   "cell_type": "code",
   "execution_count": 31,
   "id": "f0c342ea-abc9-4ebd-8e2b-29aba78b40be",
   "metadata": {},
   "outputs": [],
   "source": [
    "# Create a Python script that prints the squares of all even or odd numbers within the range of 100 to 200. Choose either even \n",
    "# or odd numbers and document your choice in the code."
   ]
  },
  {
   "cell_type": "code",
   "execution_count": 42,
   "id": "34f6f85b-3fa5-4b8c-a432-46139258d47e",
   "metadata": {},
   "outputs": [
    {
     "name": "stdout",
     "output_type": "stream",
     "text": [
      "The square of101 is 10201.\n",
      "The square of103 is 10609.\n",
      "The square of105 is 11025.\n",
      "The square of107 is 11449.\n",
      "The square of109 is 11881.\n",
      "The square of111 is 12321.\n",
      "The square of113 is 12769.\n",
      "The square of115 is 13225.\n",
      "The square of117 is 13689.\n",
      "The square of119 is 14161.\n",
      "The square of121 is 14641.\n",
      "The square of123 is 15129.\n",
      "The square of125 is 15625.\n",
      "The square of127 is 16129.\n",
      "The square of129 is 16641.\n",
      "The square of131 is 17161.\n",
      "The square of133 is 17689.\n",
      "The square of135 is 18225.\n",
      "The square of137 is 18769.\n",
      "The square of139 is 19321.\n",
      "The square of141 is 19881.\n",
      "The square of143 is 20449.\n",
      "The square of145 is 21025.\n",
      "The square of147 is 21609.\n",
      "The square of149 is 22201.\n",
      "The square of151 is 22801.\n",
      "The square of153 is 23409.\n",
      "The square of155 is 24025.\n",
      "The square of157 is 24649.\n",
      "The square of159 is 25281.\n",
      "The square of161 is 25921.\n",
      "The square of163 is 26569.\n",
      "The square of165 is 27225.\n",
      "The square of167 is 27889.\n",
      "The square of169 is 28561.\n",
      "The square of171 is 29241.\n",
      "The square of173 is 29929.\n",
      "The square of175 is 30625.\n",
      "The square of177 is 31329.\n",
      "The square of179 is 32041.\n",
      "The square of181 is 32761.\n",
      "The square of183 is 33489.\n",
      "The square of185 is 34225.\n",
      "The square of187 is 34969.\n",
      "The square of189 is 35721.\n",
      "The square of191 is 36481.\n",
      "The square of193 is 37249.\n",
      "The square of195 is 38025.\n",
      "The square of197 is 38809.\n",
      "The square of199 is 39601.\n"
     ]
    }
   ],
   "source": [
    "# the squares of all odd\n",
    "for num in range(100,201):\n",
    "    if num %2 != 0:\n",
    "        square = num**2\n",
    "        print(f\"The square of{num} is {square}.\")"
   ]
  },
  {
   "cell_type": "code",
   "execution_count": 44,
   "id": "d0cbb973-b32f-44c7-9061-3afd0f141bb1",
   "metadata": {},
   "outputs": [
    {
     "name": "stdout",
     "output_type": "stream",
     "text": [
      "The suare of 100 is 10000\n",
      "The suare of 102 is 10404\n",
      "The suare of 104 is 10816\n",
      "The suare of 106 is 11236\n",
      "The suare of 108 is 11664\n",
      "The suare of 110 is 12100\n",
      "The suare of 112 is 12544\n",
      "The suare of 114 is 12996\n",
      "The suare of 116 is 13456\n",
      "The suare of 118 is 13924\n",
      "The suare of 120 is 14400\n",
      "The suare of 122 is 14884\n",
      "The suare of 124 is 15376\n",
      "The suare of 126 is 15876\n",
      "The suare of 128 is 16384\n",
      "The suare of 130 is 16900\n",
      "The suare of 132 is 17424\n",
      "The suare of 134 is 17956\n",
      "The suare of 136 is 18496\n",
      "The suare of 138 is 19044\n",
      "The suare of 140 is 19600\n",
      "The suare of 142 is 20164\n",
      "The suare of 144 is 20736\n",
      "The suare of 146 is 21316\n",
      "The suare of 148 is 21904\n",
      "The suare of 150 is 22500\n",
      "The suare of 152 is 23104\n",
      "The suare of 154 is 23716\n",
      "The suare of 156 is 24336\n",
      "The suare of 158 is 24964\n",
      "The suare of 160 is 25600\n",
      "The suare of 162 is 26244\n",
      "The suare of 164 is 26896\n",
      "The suare of 166 is 27556\n",
      "The suare of 168 is 28224\n",
      "The suare of 170 is 28900\n",
      "The suare of 172 is 29584\n",
      "The suare of 174 is 30276\n",
      "The suare of 176 is 30976\n",
      "The suare of 178 is 31684\n",
      "The suare of 180 is 32400\n",
      "The suare of 182 is 33124\n",
      "The suare of 184 is 33856\n",
      "The suare of 186 is 34596\n",
      "The suare of 188 is 35344\n",
      "The suare of 190 is 36100\n",
      "The suare of 192 is 36864\n",
      "The suare of 194 is 37636\n",
      "The suare of 196 is 38416\n",
      "The suare of 198 is 39204\n",
      "The suare of 200 is 40000\n"
     ]
    }
   ],
   "source": [
    "# the squares of all even\n",
    "for num in range(100,201):\n",
    "    if num %2 == 0:\n",
    "        square = num**2\n",
    "        print(f\"The suare of {num} is {square}\")"
   ]
  },
  {
   "cell_type": "code",
   "execution_count": null,
   "id": "d39358ac-8b75-478a-9385-fe6c0be2e344",
   "metadata": {},
   "outputs": [],
   "source": []
  },
  {
   "cell_type": "code",
   "execution_count": 45,
   "id": "9297845a-dbf7-4cbd-b4d3-b78cd0bbaea0",
   "metadata": {},
   "outputs": [],
   "source": [
    "# Exercise 4: Word counter"
   ]
  },
  {
   "cell_type": "code",
   "execution_count": 46,
   "id": "49631e3d-63a7-4ab9-ad97-6c30b67b9be8",
   "metadata": {},
   "outputs": [],
   "source": [
    "# write a program to count the number of words in a given text."
   ]
  },
  {
   "cell_type": "code",
   "execution_count": 48,
   "id": "6a86a394-3065-451b-a7b1-6429e209aaf3",
   "metadata": {},
   "outputs": [
    {
     "name": "stdin",
     "output_type": "stream",
     "text": [
      "Enter your text:  hi, this is kishan senjaliya\n"
     ]
    },
    {
     "name": "stdout",
     "output_type": "stream",
     "text": [
      "The Number of words in given text is 5\n"
     ]
    }
   ],
   "source": [
    "text = input(\"Enter your text: \")\n",
    "\n",
    "words = text.split()\n",
    "\n",
    "Count = len(words)\n",
    "\n",
    "print(f\"The Number of words in given text is {Count}\")"
   ]
  },
  {
   "cell_type": "code",
   "execution_count": null,
   "id": "e071e4bf-1837-4488-9205-2bbb61d3c5bf",
   "metadata": {},
   "outputs": [],
   "source": []
  },
  {
   "cell_type": "code",
   "execution_count": 49,
   "id": "cfbcbf61-4c13-41b4-8b33-85ad3aa10d35",
   "metadata": {},
   "outputs": [],
   "source": [
    "# Exercise 5: Check for Palindrome"
   ]
  },
  {
   "cell_type": "code",
   "execution_count": 50,
   "id": "4192e711-c159-4b79-a6c0-129d75eb10f5",
   "metadata": {},
   "outputs": [],
   "source": [
    "# Write a Python function called is_palindrome that takes a string as input and returns True if the string is a palindrome, \n",
    "# and False otherwise. A palindrome is a word, phrase, number, or other sequence of characters that reads the same forward \n",
    "# and backward, ignoring spaces, punctuation, and capitalization."
   ]
  },
  {
   "cell_type": "code",
   "execution_count": 18,
   "id": "b0fabf76-eb91-4521-9455-3b9129eb24d3",
   "metadata": {},
   "outputs": [
    {
     "name": "stdin",
     "output_type": "stream",
     "text": [
      "Enter The String: kishan\n"
     ]
    },
    {
     "name": "stdout",
     "output_type": "stream",
     "text": [
      "It's not a Palindrom\n"
     ]
    }
   ],
   "source": [
    "def is_palindrome():\n",
    "    str = input(\"Enter The String:\")\n",
    "    str1 = str[::-1]\n",
    "\n",
    "    if str == str1:\n",
    "        print(\"it's a Palindrom\")\n",
    "    else:\n",
    "        print(\"It's not a Palindrom\")\n",
    "\n",
    "is_palindrome()"
   ]
  },
  {
   "cell_type": "code",
   "execution_count": null,
   "id": "8cf3e77e-4dcf-4d00-9a0b-8a4aa0d607c5",
   "metadata": {},
   "outputs": [],
   "source": []
  },
  {
   "cell_type": "code",
   "execution_count": null,
   "id": "22f70fab-1888-466a-9c74-5aa95674c336",
   "metadata": {},
   "outputs": [],
   "source": []
  }
 ],
 "metadata": {
  "kernelspec": {
   "display_name": "Python 3 (ipykernel)",
   "language": "python",
   "name": "python3"
  },
  "language_info": {
   "codemirror_mode": {
    "name": "ipython",
    "version": 3
   },
   "file_extension": ".py",
   "mimetype": "text/x-python",
   "name": "python",
   "nbconvert_exporter": "python",
   "pygments_lexer": "ipython3",
   "version": "3.12.7"
  }
 },
 "nbformat": 4,
 "nbformat_minor": 5
}
