{
 "cells": [
  {
   "cell_type": "code",
   "execution_count": 1,
   "id": "a1a60284-f71c-4da0-854f-fdd87173a620",
   "metadata": {},
   "outputs": [],
   "source": [
    "                                                    # Estimation And Confidence Intervals"
   ]
  },
  {
   "cell_type": "code",
   "execution_count": 2,
   "id": "f2f749f9-600f-47eb-ba5a-09b7d13adb79",
   "metadata": {},
   "outputs": [],
   "source": [
    "# Data\n",
    "# A total of 15 print-heads were randomly selected and tested until failure. The durability of each print-head \n",
    "# (in millions of characters) was recorded as follows:\n",
    "# 1.13, 1.55, 1.43, 0.92, 1.25, 1.36, 1.32, 0.85, 1.07, 1.48, 1.20, 1.33, 1.18, 1.22, 1.29"
   ]
  },
  {
   "cell_type": "code",
   "execution_count": 3,
   "id": "efbd5609-8cb7-47b2-b95c-e417beada0e9",
   "metadata": {},
   "outputs": [],
   "source": [
    "# Assignment Tasks"
   ]
  },
  {
   "cell_type": "code",
   "execution_count": 4,
   "id": "59a1610b-7565-4e1a-aa92-0962a5ba8a97",
   "metadata": {},
   "outputs": [],
   "source": [
    "# a. Build 99% Confidence Interval Using Sample Standard Deviation\n",
    "# Assuming the sample is representative of the population, construct a 99% confidence interval for the mean number of \n",
    "# characters printed before the print-head fails using the sample standard deviation. Explain the steps you take and \n",
    "# the rationale behind using the t-distribution for this task."
   ]
  },
  {
   "cell_type": "code",
   "execution_count": 9,
   "id": "6e87e1fc-5f59-48a3-8306-509be5918b80",
   "metadata": {},
   "outputs": [],
   "source": [
    "import numpy as np\n",
    "from scipy import stats"
   ]
  },
  {
   "cell_type": "code",
   "execution_count": 10,
   "id": "e531d37c-561d-47e8-8c5d-ddaf74d85428",
   "metadata": {},
   "outputs": [],
   "source": [
    "data = [1.13, 1.55, 1.43, 0.92, 1.25, 1.36, 1.32, 0.85, 1.07, 1.48, 1.20, 1.33, 1.18, 1.22, 1.29]"
   ]
  },
  {
   "cell_type": "code",
   "execution_count": 11,
   "id": "283b74d5-00d1-4f08-8951-8e343dbbbe80",
   "metadata": {},
   "outputs": [],
   "source": [
    "n = len(data)\n",
    "mean = np.mean(data)\n",
    "std_dev = np.std(data, ddof=1)\n",
    "confidence = 0.99\n",
    "alpha = 1 - confidence"
   ]
  },
  {
   "cell_type": "code",
   "execution_count": 13,
   "id": "f3b01a73-4b49-4a31-80f7-28d3a2e5a54a",
   "metadata": {},
   "outputs": [],
   "source": [
    "t_critical = stats.t.ppf(1 - alpha / 2, df=n - 1)"
   ]
  },
  {
   "cell_type": "code",
   "execution_count": 14,
   "id": "c85e4df7-e5d4-4b24-89b4-9647e6ef1982",
   "metadata": {},
   "outputs": [],
   "source": [
    "margin_of_error = t_critical * (std_dev / np.sqrt(n))"
   ]
  },
  {
   "cell_type": "code",
   "execution_count": 15,
   "id": "1cbc8cf9-200f-45f6-be0f-5fd35ca10b10",
   "metadata": {},
   "outputs": [],
   "source": [
    "ci_lower = mean - margin_of_error\n",
    "ci_upper = mean + margin_of_error"
   ]
  },
  {
   "cell_type": "code",
   "execution_count": 16,
   "id": "7f321af3-76bc-4bfb-b236-72df5aaa9229",
   "metadata": {},
   "outputs": [
    {
     "name": "stdout",
     "output_type": "stream",
     "text": [
      "a. 99% CI using sample std dev (t-distribution):\n",
      "Mean: 1.2387, Std Dev: 0.1932\n",
      "CI: (1.0902, 1.3871)\n"
     ]
    }
   ],
   "source": [
    "print(\"a. 99% CI using sample std dev (t-distribution):\")\n",
    "print(f\"Mean: {mean:.4f}, Std Dev: {std_dev:.4f}\")\n",
    "print(f\"CI: ({ci_lower:.4f}, {ci_upper:.4f})\")"
   ]
  },
  {
   "cell_type": "code",
   "execution_count": 17,
   "id": "3ae534da-4027-4d28-91af-f0b5b649f38d",
   "metadata": {},
   "outputs": [],
   "source": [
    "# b. Build 99% Confidence Interval Using Known Population Standard Deviation\n",
    "# If it were known that the population standard deviation is 0.2 million characters, construct a 99% confidence interval \n",
    "# for the mean number of characters printed before failure."
   ]
  },
  {
   "cell_type": "code",
   "execution_count": 18,
   "id": "49269143-eec9-454d-8e9d-45536cda77e2",
   "metadata": {},
   "outputs": [],
   "source": [
    "pop_std_dev = 0.2"
   ]
  },
  {
   "cell_type": "code",
   "execution_count": 19,
   "id": "8853728e-912b-44d2-bf95-6fa3427755c2",
   "metadata": {},
   "outputs": [],
   "source": [
    "z_critical = stats.norm.ppf(1 - alpha/2)"
   ]
  },
  {
   "cell_type": "code",
   "execution_count": 20,
   "id": "f69fcc90-c19d-4fde-b0f1-9821fee00b1c",
   "metadata": {},
   "outputs": [],
   "source": [
    "margin_of_error_z = z_critical * (pop_std_dev / np.sqrt(n))"
   ]
  },
  {
   "cell_type": "code",
   "execution_count": 21,
   "id": "02ada339-f863-4607-8a18-bae248a0f4b3",
   "metadata": {},
   "outputs": [],
   "source": [
    "ci_lower_z = mean - margin_of_error_z\n",
    "ci_upper_z = mean + margin_of_error_z"
   ]
  },
  {
   "cell_type": "code",
   "execution_count": 22,
   "id": "9e79e76a-cb6f-43b5-9071-580b6af03c2e",
   "metadata": {},
   "outputs": [
    {
     "name": "stdout",
     "output_type": "stream",
     "text": [
      "\n",
      "b. 99% CI using population std dev (z-distribution):\n",
      "CI: (1.1057, 1.3717)\n"
     ]
    }
   ],
   "source": [
    "print(\"\\nb. 99% CI using population std dev (z-distribution):\")\n",
    "print(f\"CI: ({ci_lower_z:.4f}, {ci_upper_z:.4f})\")"
   ]
  },
  {
   "cell_type": "code",
   "execution_count": null,
   "id": "cda25cb8-111e-479c-a9ec-e253d6ea46c3",
   "metadata": {},
   "outputs": [],
   "source": [
    "# Explanation:\n",
    "# t-distribution is used in part (a) because the population standard deviation is unknown and the sample size is small (n < 30).\n",
    "# z-distribution is used in part (b) because the population standard deviation is known, which makes the z-distribution appropriate \n",
    "# even for smaller samples."
   ]
  }
 ],
 "metadata": {
  "kernelspec": {
   "display_name": "Python 3 (ipykernel)",
   "language": "python",
   "name": "python3"
  },
  "language_info": {
   "codemirror_mode": {
    "name": "ipython",
    "version": 3
   },
   "file_extension": ".py",
   "mimetype": "text/x-python",
   "name": "python",
   "nbconvert_exporter": "python",
   "pygments_lexer": "ipython3",
   "version": "3.12.7"
  }
 },
 "nbformat": 4,
 "nbformat_minor": 5
}
