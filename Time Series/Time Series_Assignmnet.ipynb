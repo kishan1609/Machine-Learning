{
 "cells": [
  {
   "cell_type": "markdown",
   "id": "e70631d5",
   "metadata": {},
   "source": [
    "**Part 1: Data Preparation and Exploration**"
   ]
  },
  {
   "cell_type": "markdown",
   "id": "e27d8ed7",
   "metadata": {},
   "source": [
    "**Part 2: Model Building - ARIMA**"
   ]
  },
  {
   "cell_type": "markdown",
   "id": "802f52f7",
   "metadata": {},
   "source": [
    "**Part 3: Model Building - Exponential Smoothing**"
   ]
  },
  {
   "cell_type": "markdown",
   "id": "99e2d236",
   "metadata": {},
   "source": [
    "**Part 4: Evaluation and Comparison**"
   ]
  },
  {
   "cell_type": "code",
   "execution_count": 1,
   "id": "1b83689a-0d18-4784-9a54-eb471a92ed96",
   "metadata": {},
   "outputs": [],
   "source": [
    "# Time series ARIMA is a powerful time series forecasting technique used when data is nonstatinary\n",
    "# p = Lags of actual values, d = to remove trends, q = Number of MA(Lags of forecast error)\n",
    "# AR: AutoRegressive\n",
    "# I = Integreted\n",
    "# MA = Moving Average\n",
    "# ARIMA:(Auto regressive Integrated  Moving Average):Stationary model used for time series forecasting\n",
    "# ARIMA:(P,Q,D)\n",
    "# p=order of the AR COMPONENT(NUMBER OF LAGGED OBSERVATIONS)\n",
    "# d=degree of differencing needed to make time series stationary\n",
    "#q:Order of MA(number of lagged forecast errors used in the model)\n",
    "import pandas as pd\n",
    "import numpy as np\n",
    "#ARIMA:AUTOREGRESSIVE INTEGRATED MOVING AVERAGE\n",
    "# STATISTICAL MODEL:Time series\n",
    "# ARIMA MODEL(P,D,Q):THESES ARE ASSIGNED TO MODIFY THE MODEL\n",
    "#P=AUTO REGRESSIVE\n",
    "#use case:we are using exchange rate, we are anlayzing it using arima"
   ]
  },
  {
   "cell_type": "code",
   "execution_count": 2,
   "id": "68f63798",
   "metadata": {},
   "outputs": [
    {
     "data": {
      "text/html": [
       "<div>\n",
       "<style scoped>\n",
       "    .dataframe tbody tr th:only-of-type {\n",
       "        vertical-align: middle;\n",
       "    }\n",
       "\n",
       "    .dataframe tbody tr th {\n",
       "        vertical-align: top;\n",
       "    }\n",
       "\n",
       "    .dataframe thead th {\n",
       "        text-align: right;\n",
       "    }\n",
       "</style>\n",
       "<table border=\"1\" class=\"dataframe\">\n",
       "  <thead>\n",
       "    <tr style=\"text-align: right;\">\n",
       "      <th></th>\n",
       "      <th>Ex_rate</th>\n",
       "    </tr>\n",
       "    <tr>\n",
       "      <th>date</th>\n",
       "      <th></th>\n",
       "    </tr>\n",
       "  </thead>\n",
       "  <tbody>\n",
       "    <tr>\n",
       "      <th>01-01-1990 00:00</th>\n",
       "      <td>0.785500</td>\n",
       "    </tr>\n",
       "    <tr>\n",
       "      <th>02-01-1990 00:00</th>\n",
       "      <td>0.781800</td>\n",
       "    </tr>\n",
       "    <tr>\n",
       "      <th>03-01-1990 00:00</th>\n",
       "      <td>0.786700</td>\n",
       "    </tr>\n",
       "    <tr>\n",
       "      <th>04-01-1990 00:00</th>\n",
       "      <td>0.786000</td>\n",
       "    </tr>\n",
       "    <tr>\n",
       "      <th>05-01-1990 00:00</th>\n",
       "      <td>0.784900</td>\n",
       "    </tr>\n",
       "    <tr>\n",
       "      <th>...</th>\n",
       "      <td>...</td>\n",
       "    </tr>\n",
       "    <tr>\n",
       "      <th>06-10-2010 00:00</th>\n",
       "      <td>0.718494</td>\n",
       "    </tr>\n",
       "    <tr>\n",
       "      <th>07-10-2010 00:00</th>\n",
       "      <td>0.721839</td>\n",
       "    </tr>\n",
       "    <tr>\n",
       "      <th>08-10-2010 00:00</th>\n",
       "      <td>0.723197</td>\n",
       "    </tr>\n",
       "    <tr>\n",
       "      <th>09-10-2010 00:00</th>\n",
       "      <td>0.720825</td>\n",
       "    </tr>\n",
       "    <tr>\n",
       "      <th>10-10-2010 00:00</th>\n",
       "      <td>0.720825</td>\n",
       "    </tr>\n",
       "  </tbody>\n",
       "</table>\n",
       "<p>7588 rows × 1 columns</p>\n",
       "</div>"
      ],
      "text/plain": [
       "                   Ex_rate\n",
       "date                      \n",
       "01-01-1990 00:00  0.785500\n",
       "02-01-1990 00:00  0.781800\n",
       "03-01-1990 00:00  0.786700\n",
       "04-01-1990 00:00  0.786000\n",
       "05-01-1990 00:00  0.784900\n",
       "...                    ...\n",
       "06-10-2010 00:00  0.718494\n",
       "07-10-2010 00:00  0.721839\n",
       "08-10-2010 00:00  0.723197\n",
       "09-10-2010 00:00  0.720825\n",
       "10-10-2010 00:00  0.720825\n",
       "\n",
       "[7588 rows x 1 columns]"
      ]
     },
     "execution_count": 2,
     "metadata": {},
     "output_type": "execute_result"
    }
   ],
   "source": [
    "import pandas as pd\n",
    "df=pd.read_csv(\"exchange_rate.csv\",index_col='date',parse_dates=True)\n",
    "# standard format(data-month-year)\n",
    "df"
   ]
  },
  {
   "cell_type": "code",
   "execution_count": 3,
   "id": "1349bd58",
   "metadata": {},
   "outputs": [
    {
     "data": {
      "text/html": [
       "<div>\n",
       "<style scoped>\n",
       "    .dataframe tbody tr th:only-of-type {\n",
       "        vertical-align: middle;\n",
       "    }\n",
       "\n",
       "    .dataframe tbody tr th {\n",
       "        vertical-align: top;\n",
       "    }\n",
       "\n",
       "    .dataframe thead th {\n",
       "        text-align: right;\n",
       "    }\n",
       "</style>\n",
       "<table border=\"1\" class=\"dataframe\">\n",
       "  <thead>\n",
       "    <tr style=\"text-align: right;\">\n",
       "      <th></th>\n",
       "      <th>Ex_rate</th>\n",
       "    </tr>\n",
       "    <tr>\n",
       "      <th>date</th>\n",
       "      <th></th>\n",
       "    </tr>\n",
       "  </thead>\n",
       "  <tbody>\n",
       "    <tr>\n",
       "      <th>01-01-1990 00:00</th>\n",
       "      <td>0.7855</td>\n",
       "    </tr>\n",
       "    <tr>\n",
       "      <th>02-01-1990 00:00</th>\n",
       "      <td>0.7818</td>\n",
       "    </tr>\n",
       "    <tr>\n",
       "      <th>03-01-1990 00:00</th>\n",
       "      <td>0.7867</td>\n",
       "    </tr>\n",
       "    <tr>\n",
       "      <th>04-01-1990 00:00</th>\n",
       "      <td>0.7860</td>\n",
       "    </tr>\n",
       "    <tr>\n",
       "      <th>05-01-1990 00:00</th>\n",
       "      <td>0.7849</td>\n",
       "    </tr>\n",
       "  </tbody>\n",
       "</table>\n",
       "</div>"
      ],
      "text/plain": [
       "                  Ex_rate\n",
       "date                     \n",
       "01-01-1990 00:00   0.7855\n",
       "02-01-1990 00:00   0.7818\n",
       "03-01-1990 00:00   0.7867\n",
       "04-01-1990 00:00   0.7860\n",
       "05-01-1990 00:00   0.7849"
      ]
     },
     "execution_count": 3,
     "metadata": {},
     "output_type": "execute_result"
    }
   ],
   "source": [
    "df.head()"
   ]
  },
  {
   "cell_type": "code",
   "execution_count": 4,
   "id": "df07c805",
   "metadata": {},
   "outputs": [
    {
     "data": {
      "text/plain": [
       "(7588, 1)"
      ]
     },
     "execution_count": 4,
     "metadata": {},
     "output_type": "execute_result"
    }
   ],
   "source": [
    "df.shape"
   ]
  },
  {
   "cell_type": "code",
   "execution_count": 5,
   "id": "9bfedf89",
   "metadata": {},
   "outputs": [],
   "source": [
    "import matplotlib.pyplot as plt"
   ]
  },
  {
   "cell_type": "code",
   "execution_count": 6,
   "id": "89dcc964",
   "metadata": {},
   "outputs": [
    {
     "data": {
      "text/plain": [
       "<Axes: xlabel='date'>"
      ]
     },
     "execution_count": 6,
     "metadata": {},
     "output_type": "execute_result"
    },
    {
     "data": {
      "image/png": "[encoded data removed]",
      "text/plain": [
       "<Figure size 1200x600 with 1 Axes>"
      ]
     },
     "metadata": {},
     "output_type": "display_data"
    }
   ],
   "source": [
    "df.plot(figsize=(12,6))"
   ]
  },
  {
   "cell_type": "code",
   "execution_count": 7,
   "id": "7a9431d6",
   "metadata": {},
   "outputs": [],
   "source": [
    "#"
   ]
  },
  {
   "cell_type": "code",
   "execution_count": 8,
   "id": "52f67f51",
   "metadata": {},
   "outputs": [],
   "source": [
    "# AUGMENT DICKEY=FULLER TEST:Time series stationary/Nonstationary\n",
    "# Hypothesis Testing Arima\n",
    "# TSA: time series alalysis referce to the techniques use to analyse forcast time based data\n",
    "# AIC: Acite information criteare. it is a metric use to evaluate the data without overfitting\n",
    "# Lower aic : Better model\n",
    "#Akaike Information CRITERION(AIC)\n",
    "# An augmented Dickery\n",
    "#aic(akaike Information criteria)\n",
    "from statsmodels.tsa.stattools import adfuller\n",
    "def ad_test(dataset):\n",
    "    \n",
    "  dftest=adfuller(df['Ex_rate'],autolag='AIC')\n",
    "\n",
    "  print(\"1. ADF :\",dftest[0])\n",
    "  print(\"2. P-value:\",dftest[1])\n",
    "  print(\"3. Num of Lags\",dftest[2])\n",
    "  print(\"4. Num of Observation used for ADF Regression and Critical Values Calculation:\",dftest[3])\n",
    "  print(\"5. Critical values:\",dftest[4])\n",
    "  for key, val in dftest[4].items():\n",
    "      print(\"\\t\",key,\":\",val)"
   ]
  },
  {
   "cell_type": "code",
   "execution_count": 9,
   "id": "3472ccf3",
   "metadata": {},
   "outputs": [
    {
     "name": "stdout",
     "output_type": "stream",
     "text": [
      "1. ADF : -1.6649941807381343\n",
      "2. P-value: 0.44923273535979974\n",
      "3. Num of Lags 1\n",
      "4. Num of Observation used for ADF Regression and Critical Values Calculation: 7586\n",
      "5. Critical values: {'1%': -3.4312123140180137, '5%': -2.861921078147796, '10%': -2.5669728434336108}\n",
      "\t 1% : -3.4312123140180137\n",
      "\t 5% : -2.861921078147796\n",
      "\t 10% : -2.5669728434336108\n"
     ]
    }
   ],
   "source": [
    "ad_test(df['Ex_rate'])"
   ]
  },
  {
   "cell_type": "code",
   "execution_count": 10,
   "id": "e927e695",
   "metadata": {},
   "outputs": [],
   "source": [
    "# if required install \n",
    "#!pip install pmdarima"
   ]
  },
  {
   "cell_type": "code",
   "execution_count": 11,
   "id": "9f08d1a3",
   "metadata": {},
   "outputs": [],
   "source": [
    "# pmdarima is python library that automates the process of building a arima model\n",
    "from pmdarima import auto_arima\n",
    "import warnings\n",
    "warnings.filterwarnings(\"ignore\")"
   ]
  },
  {
   "cell_type": "code",
   "execution_count": 12,
   "id": "366f0d34",
   "metadata": {},
   "outputs": [
    {
     "name": "stdout",
     "output_type": "stream",
     "text": [
      "Performing stepwise search to minimize aic\n",
      " ARIMA(2,1,2)(0,0,0)[0] intercept   : AIC=-56098.154, Time=3.79 sec\n",
      " ARIMA(0,1,0)(0,0,0)[0] intercept   : AIC=-55972.211, Time=2.39 sec\n",
      " ARIMA(1,1,0)(0,0,0)[0] intercept   : AIC=-56102.338, Time=1.16 sec\n",
      " ARIMA(0,1,1)(0,0,0)[0] intercept   : AIC=-56100.772, Time=4.78 sec\n",
      " ARIMA(0,1,0)(0,0,0)[0]             : AIC=-55974.195, Time=0.64 sec\n",
      " ARIMA(2,1,0)(0,0,0)[0] intercept   : AIC=-56100.340, Time=2.42 sec\n",
      " ARIMA(1,1,1)(0,0,0)[0] intercept   : AIC=-56100.341, Time=2.12 sec\n",
      " ARIMA(2,1,1)(0,0,0)[0] intercept   : AIC=-56098.328, Time=5.03 sec\n",
      " ARIMA(1,1,0)(0,0,0)[0]             : AIC=-56104.319, Time=0.56 sec\n",
      " ARIMA(2,1,0)(0,0,0)[0]             : AIC=-56102.321, Time=0.53 sec\n",
      " ARIMA(1,1,1)(0,0,0)[0]             : AIC=-56102.322, Time=2.52 sec\n",
      " ARIMA(0,1,1)(0,0,0)[0]             : AIC=-56102.753, Time=1.17 sec\n",
      " ARIMA(2,1,1)(0,0,0)[0]             : AIC=-56100.316, Time=3.75 sec\n",
      "\n",
      "Best model:  ARIMA(1,1,0)(0,0,0)[0]          \n",
      "Total fit time: 30.893 seconds\n"
     ]
    },
    {
     "data": {
      "text/html": [
       "<table class=\"simpletable\">\n",
       "<caption>SARIMAX Results</caption>\n",
       "<tr>\n",
       "  <th>Dep. Variable:</th>           <td>y</td>        <th>  No. Observations:  </th>    <td>7588</td>   \n",
       "</tr>\n",
       "<tr>\n",
       "  <th>Model:</th>           <td>SARIMAX(1, 1, 0)</td> <th>  Log Likelihood     </th>  <td>28054.159</td>\n",
       "</tr>\n",
       "<tr>\n",
       "  <th>Date:</th>            <td>Sun, 03 Aug 2025</td> <th>  AIC                </th> <td>-56104.319</td>\n",
       "</tr>\n",
       "<tr>\n",
       "  <th>Time:</th>                <td>12:25:11</td>     <th>  BIC                </th> <td>-56090.450</td>\n",
       "</tr>\n",
       "<tr>\n",
       "  <th>Sample:</th>                  <td>0</td>        <th>  HQIC               </th> <td>-56099.559</td>\n",
       "</tr>\n",
       "<tr>\n",
       "  <th></th>                      <td> - 7588</td>     <th>                     </th>      <td> </td>    \n",
       "</tr>\n",
       "<tr>\n",
       "  <th>Covariance Type:</th>        <td>opg</td>       <th>                     </th>      <td> </td>    \n",
       "</tr>\n",
       "</table>\n",
       "<table class=\"simpletable\">\n",
       "<tr>\n",
       "     <td></td>       <th>coef</th>     <th>std err</th>      <th>z</th>      <th>P>|z|</th>  <th>[0.025</th>    <th>0.975]</th>  \n",
       "</tr>\n",
       "<tr>\n",
       "  <th>ar.L1</th>  <td>   -0.1314</td> <td>    0.002</td> <td>  -64.439</td> <td> 0.000</td> <td>   -0.135</td> <td>   -0.127</td>\n",
       "</tr>\n",
       "<tr>\n",
       "  <th>sigma2</th> <td> 3.595e-05</td> <td> 9.94e-08</td> <td>  361.720</td> <td> 0.000</td> <td> 3.58e-05</td> <td> 3.61e-05</td>\n",
       "</tr>\n",
       "</table>\n",
       "<table class=\"simpletable\">\n",
       "<tr>\n",
       "  <th>Ljung-Box (L1) (Q):</th>     <td>0.00</td> <th>  Jarque-Bera (JB):  </th> <td>2865011.36</td>\n",
       "</tr>\n",
       "<tr>\n",
       "  <th>Prob(Q):</th>                <td>0.99</td> <th>  Prob(JB):          </th>    <td>0.00</td>   \n",
       "</tr>\n",
       "<tr>\n",
       "  <th>Heteroskedasticity (H):</th> <td>2.97</td> <th>  Skew:              </th>    <td>0.24</td>   \n",
       "</tr>\n",
       "<tr>\n",
       "  <th>Prob(H) (two-sided):</th>    <td>0.00</td> <th>  Kurtosis:          </th>    <td>98.20</td>  \n",
       "</tr>\n",
       "</table><br/><br/>Warnings:<br/>[1] Covariance matrix calculated using the outer product of gradients (complex-step)."
      ],
      "text/latex": [
       "\\begin{center}\n",
       "\\begin{tabular}{lclc}\n",
       "\\toprule\n",
       "\\textbf{Dep. Variable:}          &        y         & \\textbf{  No. Observations:  } &    7588     \\\\\n",
       "\\textbf{Model:}                  & SARIMAX(1, 1, 0) & \\textbf{  Log Likelihood     } & 28054.159   \\\\\n",
       "\\textbf{Date:}                   & Sun, 03 Aug 2025 & \\textbf{  AIC                } & -56104.319  \\\\\n",
       "\\textbf{Time:}                   &     12:25:11     & \\textbf{  BIC                } & -56090.450  \\\\\n",
       "\\textbf{Sample:}                 &        0         & \\textbf{  HQIC               } & -56099.559  \\\\\n",
       "\\textbf{}                        &      - 7588      & \\textbf{                     } &             \\\\\n",
       "\\textbf{Covariance Type:}        &       opg        & \\textbf{                     } &             \\\\\n",
       "\\bottomrule\n",
       "\\end{tabular}\n",
       "\\begin{tabular}{lcccccc}\n",
       "                & \\textbf{coef} & \\textbf{std err} & \\textbf{z} & \\textbf{P$> |$z$|$} & \\textbf{[0.025} & \\textbf{0.975]}  \\\\\n",
       "\\midrule\n",
       "\\textbf{ar.L1}  &      -0.1314  &        0.002     &   -64.439  &         0.000        &       -0.135    &       -0.127     \\\\\n",
       "\\textbf{sigma2} &    3.595e-05  &     9.94e-08     &   361.720  &         0.000        &     3.58e-05    &     3.61e-05     \\\\\n",
       "\\bottomrule\n",
       "\\end{tabular}\n",
       "\\begin{tabular}{lclc}\n",
       "\\textbf{Ljung-Box (L1) (Q):}     & 0.00 & \\textbf{  Jarque-Bera (JB):  } & 2865011.36  \\\\\n",
       "\\textbf{Prob(Q):}                & 0.99 & \\textbf{  Prob(JB):          } &    0.00     \\\\\n",
       "\\textbf{Heteroskedasticity (H):} & 2.97 & \\textbf{  Skew:              } &    0.24     \\\\\n",
       "\\textbf{Prob(H) (two-sided):}    & 0.00 & \\textbf{  Kurtosis:          } &   98.20     \\\\\n",
       "\\bottomrule\n",
       "\\end{tabular}\n",
       "%\\caption{SARIMAX Results}\n",
       "\\end{center}\n",
       "\n",
       "Warnings: \\newline\n",
       " [1] Covariance matrix calculated using the outer product of gradients (complex-step)."
      ],
      "text/plain": [
       "<class 'statsmodels.iolib.summary.Summary'>\n",
       "\"\"\"\n",
       "                               SARIMAX Results                                \n",
       "==============================================================================\n",
       "Dep. Variable:                      y   No. Observations:                 7588\n",
       "Model:               SARIMAX(1, 1, 0)   Log Likelihood               28054.159\n",
       "Date:                Sun, 03 Aug 2025   AIC                         -56104.319\n",
       "Time:                        12:25:11   BIC                         -56090.450\n",
       "Sample:                             0   HQIC                        -56099.559\n",
       "                               - 7588                                         \n",
       "Covariance Type:                  opg                                         \n",
       "==============================================================================\n",
       "                 coef    std err          z      P>|z|      [0.025      0.975]\n",
       "------------------------------------------------------------------------------\n",
       "ar.L1         -0.1314      0.002    -64.439      0.000      -0.135      -0.127\n",
       "sigma2      3.595e-05   9.94e-08    361.720      0.000    3.58e-05    3.61e-05\n",
       "===================================================================================\n",
       "Ljung-Box (L1) (Q):                   0.00   Jarque-Bera (JB):           2865011.36\n",
       "Prob(Q):                              0.99   Prob(JB):                         0.00\n",
       "Heteroskedasticity (H):               2.97   Skew:                             0.24\n",
       "Prob(H) (two-sided):                  0.00   Kurtosis:                        98.20\n",
       "===================================================================================\n",
       "\n",
       "Warnings:\n",
       "[1] Covariance matrix calculated using the outer product of gradients (complex-step).\n",
       "\"\"\""
      ]
     },
     "execution_count": 12,
     "metadata": {},
     "output_type": "execute_result"
    }
   ],
   "source": [
    "stepwise_fit=auto_arima(df['Ex_rate'],trace=True,suppress_warnings=True)\n",
    "\n",
    "stepwise_fit.summary()"
   ]
  },
  {
   "cell_type": "code",
   "execution_count": 13,
   "id": "52956993",
   "metadata": {},
   "outputs": [],
   "source": [
    "from statsmodels.tsa.arima_model import ARIMA"
   ]
  },
  {
   "cell_type": "code",
   "execution_count": 14,
   "id": "915e3041",
   "metadata": {},
   "outputs": [
    {
     "data": {
      "text/plain": [
       "(7588, 1)"
      ]
     },
     "execution_count": 14,
     "metadata": {},
     "output_type": "execute_result"
    }
   ],
   "source": [
    "df.shape"
   ]
  },
  {
   "cell_type": "code",
   "execution_count": 15,
   "id": "3b24c168",
   "metadata": {},
   "outputs": [
    {
     "name": "stdout",
     "output_type": "stream",
     "text": [
      "(7558, 1) (30, 1)\n"
     ]
    }
   ],
   "source": [
    "# last 30 rows is removed from training and it is moved to testing\n",
    "train=df.iloc[:-30]\n",
    "test=df.iloc[-30:]\n",
    "print(train.shape,test.shape)"
   ]
  },
  {
   "cell_type": "code",
   "execution_count": 16,
   "id": "05926d3e",
   "metadata": {},
   "outputs": [],
   "source": [
    "from statsmodels.tsa.arima.model import ARIMA"
   ]
  },
  {
   "cell_type": "code",
   "execution_count": 17,
   "id": "b072bf27",
   "metadata": {},
   "outputs": [
    {
     "data": {
      "text/html": [
       "<table class=\"simpletable\">\n",
       "<caption>SARIMAX Results</caption>\n",
       "<tr>\n",
       "  <th>Dep. Variable:</th>        <td>Ex_rate</td>     <th>  No. Observations:  </th>    <td>7558</td>   \n",
       "</tr>\n",
       "<tr>\n",
       "  <th>Model:</th>            <td>ARIMA(1, 1, 0)</td>  <th>  Log Likelihood     </th>  <td>27934.469</td>\n",
       "</tr>\n",
       "<tr>\n",
       "  <th>Date:</th>            <td>Sun, 03 Aug 2025</td> <th>  AIC                </th> <td>-55864.938</td>\n",
       "</tr>\n",
       "<tr>\n",
       "  <th>Time:</th>                <td>12:25:12</td>     <th>  BIC                </th> <td>-55851.078</td>\n",
       "</tr>\n",
       "<tr>\n",
       "  <th>Sample:</th>                  <td>0</td>        <th>  HQIC               </th> <td>-55860.180</td>\n",
       "</tr>\n",
       "<tr>\n",
       "  <th></th>                      <td> - 7558</td>     <th>                     </th>      <td> </td>    \n",
       "</tr>\n",
       "<tr>\n",
       "  <th>Covariance Type:</th>        <td>opg</td>       <th>                     </th>      <td> </td>    \n",
       "</tr>\n",
       "</table>\n",
       "<table class=\"simpletable\">\n",
       "<tr>\n",
       "     <td></td>       <th>coef</th>     <th>std err</th>      <th>z</th>      <th>P>|z|</th>  <th>[0.025</th>    <th>0.975]</th>  \n",
       "</tr>\n",
       "<tr>\n",
       "  <th>ar.L1</th>  <td>   -0.1317</td> <td>    0.002</td> <td>  -64.444</td> <td> 0.000</td> <td>   -0.136</td> <td>   -0.128</td>\n",
       "</tr>\n",
       "<tr>\n",
       "  <th>sigma2</th> <td> 3.604e-05</td> <td> 9.99e-08</td> <td>  360.870</td> <td> 0.000</td> <td> 3.58e-05</td> <td> 3.62e-05</td>\n",
       "</tr>\n",
       "</table>\n",
       "<table class=\"simpletable\">\n",
       "<tr>\n",
       "  <th>Ljung-Box (L1) (Q):</th>     <td>0.00</td> <th>  Jarque-Bera (JB):  </th> <td>2846350.67</td>\n",
       "</tr>\n",
       "<tr>\n",
       "  <th>Prob(Q):</th>                <td>0.99</td> <th>  Prob(JB):          </th>    <td>0.00</td>   \n",
       "</tr>\n",
       "<tr>\n",
       "  <th>Heteroskedasticity (H):</th> <td>2.98</td> <th>  Skew:              </th>    <td>0.25</td>   \n",
       "</tr>\n",
       "<tr>\n",
       "  <th>Prob(H) (two-sided):</th>    <td>0.00</td> <th>  Kurtosis:          </th>    <td>98.08</td>  \n",
       "</tr>\n",
       "</table><br/><br/>Warnings:<br/>[1] Covariance matrix calculated using the outer product of gradients (complex-step)."
      ],
      "text/latex": [
       "\\begin{center}\n",
       "\\begin{tabular}{lclc}\n",
       "\\toprule\n",
       "\\textbf{Dep. Variable:}          &     Ex\\_rate     & \\textbf{  No. Observations:  } &    7558     \\\\\n",
       "\\textbf{Model:}                  &  ARIMA(1, 1, 0)  & \\textbf{  Log Likelihood     } & 27934.469   \\\\\n",
       "\\textbf{Date:}                   & Sun, 03 Aug 2025 & \\textbf{  AIC                } & -55864.938  \\\\\n",
       "\\textbf{Time:}                   &     12:25:12     & \\textbf{  BIC                } & -55851.078  \\\\\n",
       "\\textbf{Sample:}                 &        0         & \\textbf{  HQIC               } & -55860.180  \\\\\n",
       "\\textbf{}                        &      - 7558      & \\textbf{                     } &             \\\\\n",
       "\\textbf{Covariance Type:}        &       opg        & \\textbf{                     } &             \\\\\n",
       "\\bottomrule\n",
       "\\end{tabular}\n",
       "\\begin{tabular}{lcccccc}\n",
       "                & \\textbf{coef} & \\textbf{std err} & \\textbf{z} & \\textbf{P$> |$z$|$} & \\textbf{[0.025} & \\textbf{0.975]}  \\\\\n",
       "\\midrule\n",
       "\\textbf{ar.L1}  &      -0.1317  &        0.002     &   -64.444  &         0.000        &       -0.136    &       -0.128     \\\\\n",
       "\\textbf{sigma2} &    3.604e-05  &     9.99e-08     &   360.870  &         0.000        &     3.58e-05    &     3.62e-05     \\\\\n",
       "\\bottomrule\n",
       "\\end{tabular}\n",
       "\\begin{tabular}{lclc}\n",
       "\\textbf{Ljung-Box (L1) (Q):}     & 0.00 & \\textbf{  Jarque-Bera (JB):  } & 2846350.67  \\\\\n",
       "\\textbf{Prob(Q):}                & 0.99 & \\textbf{  Prob(JB):          } &    0.00     \\\\\n",
       "\\textbf{Heteroskedasticity (H):} & 2.98 & \\textbf{  Skew:              } &    0.25     \\\\\n",
       "\\textbf{Prob(H) (two-sided):}    & 0.00 & \\textbf{  Kurtosis:          } &   98.08     \\\\\n",
       "\\bottomrule\n",
       "\\end{tabular}\n",
       "%\\caption{SARIMAX Results}\n",
       "\\end{center}\n",
       "\n",
       "Warnings: \\newline\n",
       " [1] Covariance matrix calculated using the outer product of gradients (complex-step)."
      ],
      "text/plain": [
       "<class 'statsmodels.iolib.summary.Summary'>\n",
       "\"\"\"\n",
       "                               SARIMAX Results                                \n",
       "==============================================================================\n",
       "Dep. Variable:                Ex_rate   No. Observations:                 7558\n",
       "Model:                 ARIMA(1, 1, 0)   Log Likelihood               27934.469\n",
       "Date:                Sun, 03 Aug 2025   AIC                         -55864.938\n",
       "Time:                        12:25:12   BIC                         -55851.078\n",
       "Sample:                             0   HQIC                        -55860.180\n",
       "                               - 7558                                         \n",
       "Covariance Type:                  opg                                         \n",
       "==============================================================================\n",
       "                 coef    std err          z      P>|z|      [0.025      0.975]\n",
       "------------------------------------------------------------------------------\n",
       "ar.L1         -0.1317      0.002    -64.444      0.000      -0.136      -0.128\n",
       "sigma2      3.604e-05   9.99e-08    360.870      0.000    3.58e-05    3.62e-05\n",
       "===================================================================================\n",
       "Ljung-Box (L1) (Q):                   0.00   Jarque-Bera (JB):           2846350.67\n",
       "Prob(Q):                              0.99   Prob(JB):                         0.00\n",
       "Heteroskedasticity (H):               2.98   Skew:                             0.25\n",
       "Prob(H) (two-sided):                  0.00   Kurtosis:                        98.08\n",
       "===================================================================================\n",
       "\n",
       "Warnings:\n",
       "[1] Covariance matrix calculated using the outer product of gradients (complex-step).\n",
       "\"\"\""
      ]
     },
     "execution_count": 17,
     "metadata": {},
     "output_type": "execute_result"
    }
   ],
   "source": [
    "model=ARIMA(train['Ex_rate'],order=(1,1,0))\n",
    "model=model.fit()\n",
    "model.summary()"
   ]
  },
  {
   "cell_type": "code",
   "execution_count": 18,
   "id": "8609774a",
   "metadata": {},
   "outputs": [
    {
     "name": "stdout",
     "output_type": "stream",
     "text": [
      "7558    0.744095\n",
      "7559    0.744155\n",
      "7560    0.744147\n",
      "7561    0.744148\n",
      "7562    0.744148\n",
      "7563    0.744148\n",
      "7564    0.744148\n",
      "7565    0.744148\n",
      "7566    0.744148\n",
      "7567    0.744148\n",
      "7568    0.744148\n",
      "7569    0.744148\n",
      "7570    0.744148\n",
      "7571    0.744148\n",
      "7572    0.744148\n",
      "7573    0.744148\n",
      "7574    0.744148\n",
      "7575    0.744148\n",
      "7576    0.744148\n",
      "7577    0.744148\n",
      "7578    0.744148\n",
      "7579    0.744148\n",
      "7580    0.744148\n",
      "7581    0.744148\n",
      "7582    0.744148\n",
      "7583    0.744148\n",
      "7584    0.744148\n",
      "7585    0.744148\n",
      "7586    0.744148\n",
      "7587    0.744148\n",
      "Name: predicted_mean, dtype: float64\n",
      "date\n",
      "11-09-2010 00:00    0.744095\n",
      "12-09-2010 00:00    0.744155\n",
      "13-09-2010 00:00    0.744147\n",
      "14-09-2010 00:00    0.744148\n",
      "15-09-2010 00:00    0.744148\n",
      "16-09-2010 00:00    0.744148\n",
      "17-09-2010 00:00    0.744148\n",
      "18-09-2010 00:00    0.744148\n",
      "19-09-2010 00:00    0.744148\n",
      "20-09-2010 00:00    0.744148\n",
      "21-09-2010 00:00    0.744148\n",
      "22-09-2010 00:00    0.744148\n",
      "23-09-2010 00:00    0.744148\n",
      "24-09-2010 00:00    0.744148\n",
      "25-09-2010 00:00    0.744148\n",
      "26-09-2010 00:00    0.744148\n",
      "27-09-2010 00:00    0.744148\n",
      "28-09-2010 00:00    0.744148\n",
      "29-09-2010 00:00    0.744148\n",
      "30-09-2010 00:00    0.744148\n",
      "01-10-2010 00:00    0.744148\n",
      "02-10-2010 00:00    0.744148\n",
      "03-10-2010 00:00    0.744148\n",
      "04-10-2010 00:00    0.744148\n",
      "05-10-2010 00:00    0.744148\n",
      "06-10-2010 00:00    0.744148\n",
      "07-10-2010 00:00    0.744148\n",
      "08-10-2010 00:00    0.744148\n",
      "09-10-2010 00:00    0.744148\n",
      "10-10-2010 00:00    0.744148\n",
      "Name: predicted_mean, dtype: float64\n"
     ]
    }
   ],
   "source": [
    "start=len(train)\n",
    "end=len(train)+len(test)-1\n",
    "pred=model.predict(start=start,end=end,typ='levels')\n",
    "print(pred)\n",
    "pred.index=df.index[start:end+1]\n",
    "print(pred)"
   ]
  },
  {
   "cell_type": "code",
   "execution_count": 19,
   "id": "a88fe7cf",
   "metadata": {},
   "outputs": [
    {
     "data": {
      "text/plain": [
       "<Axes: xlabel='date'>"
      ]
     },
     "execution_count": 19,
     "metadata": {},
     "output_type": "execute_result"
    },
    {
     "data": {
      "image/png": "[encoded data removed]",
      "text/plain": [
       "<Figure size 640x480 with 1 Axes>"
      ]
     },
     "metadata": {},
     "output_type": "display_data"
    }
   ],
   "source": [
    "pred.plot(legend=True)\n",
    "test['Ex_rate'].plot(legend=True)"
   ]
  },
  {
   "cell_type": "code",
   "execution_count": 20,
   "id": "afcab589",
   "metadata": {},
   "outputs": [
    {
     "data": {
      "text/plain": [
       "0.732738"
      ]
     },
     "execution_count": 20,
     "metadata": {},
     "output_type": "execute_result"
    }
   ],
   "source": [
    "test['Ex_rate'].mean()"
   ]
  },
  {
   "cell_type": "code",
   "execution_count": 21,
   "id": "8bf4dc1a",
   "metadata": {},
   "outputs": [
    {
     "name": "stdout",
     "output_type": "stream",
     "text": [
      "0.016634697604867923\n"
     ]
    }
   ],
   "source": [
    "\n",
    "\n",
    "from sklearn.metrics import mean_squared_error\n",
    "from math import sqrt\n",
    "rmse=sqrt(mean_squared_error(pred,test['Ex_rate']))\n",
    "print(rmse)"
   ]
  },
  {
   "cell_type": "code",
   "execution_count": 22,
   "id": "829f353c",
   "metadata": {},
   "outputs": [
    {
     "data": {
      "text/html": [
       "<div>\n",
       "<style scoped>\n",
       "    .dataframe tbody tr th:only-of-type {\n",
       "        vertical-align: middle;\n",
       "    }\n",
       "\n",
       "    .dataframe tbody tr th {\n",
       "        vertical-align: top;\n",
       "    }\n",
       "\n",
       "    .dataframe thead th {\n",
       "        text-align: right;\n",
       "    }\n",
       "</style>\n",
       "<table border=\"1\" class=\"dataframe\">\n",
       "  <thead>\n",
       "    <tr style=\"text-align: right;\">\n",
       "      <th></th>\n",
       "      <th>Ex_rate</th>\n",
       "    </tr>\n",
       "    <tr>\n",
       "      <th>date</th>\n",
       "      <th></th>\n",
       "    </tr>\n",
       "  </thead>\n",
       "  <tbody>\n",
       "    <tr>\n",
       "      <th>06-10-2010 00:00</th>\n",
       "      <td>0.718494</td>\n",
       "    </tr>\n",
       "    <tr>\n",
       "      <th>07-10-2010 00:00</th>\n",
       "      <td>0.721839</td>\n",
       "    </tr>\n",
       "    <tr>\n",
       "      <th>08-10-2010 00:00</th>\n",
       "      <td>0.723197</td>\n",
       "    </tr>\n",
       "    <tr>\n",
       "      <th>09-10-2010 00:00</th>\n",
       "      <td>0.720825</td>\n",
       "    </tr>\n",
       "    <tr>\n",
       "      <th>10-10-2010 00:00</th>\n",
       "      <td>0.720825</td>\n",
       "    </tr>\n",
       "  </tbody>\n",
       "</table>\n",
       "</div>"
      ],
      "text/plain": [
       "                   Ex_rate\n",
       "date                      \n",
       "06-10-2010 00:00  0.718494\n",
       "07-10-2010 00:00  0.721839\n",
       "08-10-2010 00:00  0.723197\n",
       "09-10-2010 00:00  0.720825\n",
       "10-10-2010 00:00  0.720825"
      ]
     },
     "execution_count": 22,
     "metadata": {},
     "output_type": "execute_result"
    }
   ],
   "source": [
    "model2=ARIMA(df['Ex_rate'],order=(0,0,0))\n",
    "model2=model2.fit()\n",
    "df.tail()"
   ]
  },
  {
   "cell_type": "code",
   "execution_count": 23,
   "id": "cea5605a",
   "metadata": {},
   "outputs": [
    {
     "name": "stdout",
     "output_type": "stream",
     "text": [
      "7588    0.776969\n",
      "7589    0.776969\n",
      "7590    0.776969\n",
      "7591    0.776969\n",
      "7592    0.776969\n",
      "7593    0.776969\n",
      "7594    0.776969\n",
      "7595    0.776969\n",
      "7596    0.776969\n",
      "7597    0.776969\n",
      "7598    0.776969\n",
      "7599    0.776969\n",
      "7600    0.776969\n",
      "7601    0.776969\n",
      "7602    0.776969\n",
      "7603    0.776969\n",
      "7604    0.776969\n",
      "7605    0.776969\n",
      "7606    0.776969\n",
      "7607    0.776969\n",
      "7608    0.776969\n",
      "7609    0.776969\n",
      "7610    0.776969\n",
      "7611    0.776969\n",
      "7612    0.776969\n",
      "7613    0.776969\n",
      "7614    0.776969\n",
      "7615    0.776969\n",
      "7616    0.776969\n",
      "7617    0.776969\n",
      "7618    0.776969\n",
      "Name: ARIMA Predictions, dtype: float64\n"
     ]
    }
   ],
   "source": [
    "pred = model2.predict(start=len(df), end=len(df)+30, typ='levels')\n",
    "pred = pred.rename('ARIMA Predictions')\n",
    "print(pred)"
   ]
  },
  {
   "cell_type": "code",
   "execution_count": 24,
   "id": "6c720401",
   "metadata": {},
   "outputs": [
    {
     "data": {
      "text/plain": [
       "<Axes: >"
      ]
     },
     "execution_count": 24,
     "metadata": {},
     "output_type": "execute_result"
    },
    {
     "data": {
      "image/png": "[encoded data removed]",
      "text/plain": [
       "<Figure size 1200x500 with 1 Axes>"
      ]
     },
     "metadata": {},
     "output_type": "display_data"
    }
   ],
   "source": [
    "pred.plot(figsize=(12,5),legend=True)"
   ]
  },
  {
   "cell_type": "code",
   "execution_count": null,
   "id": "4be3b29d-59b6-4c18-8595-e162b65df18f",
   "metadata": {},
   "outputs": [],
   "source": []
  }
 ],
 "metadata": {
  "kernelspec": {
   "display_name": "Python 3 (ipykernel)",
   "language": "python",
   "name": "python3"
  },
  "language_info": {
   "codemirror_mode": {
    "name": "ipython",
    "version": 3
   },
   "file_extension": ".py",
   "mimetype": "text/x-python",
   "name": "python",
   "nbconvert_exporter": "python",
   "pygments_lexer": "ipython3",
   "version": "3.12.7"
  }
 },
 "nbformat": 4,
 "nbformat_minor": 5
}
